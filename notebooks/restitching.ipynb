{
 "cells": [
  {
   "cell_type": "code",
   "execution_count": 1,
   "metadata": {},
   "outputs": [
    {
     "data": {
      "application/json": {
       "ascii": false,
       "bar_format": null,
       "colour": null,
       "elapsed": 0.025133609771728516,
       "initial": 0,
       "n": 0,
       "ncols": null,
       "nrows": null,
       "postfix": null,
       "prefix": "",
       "rate": null,
       "total": 84,
       "unit": "it",
       "unit_divisor": 1000,
       "unit_scale": false
      },
      "application/vnd.jupyter.widget-view+json": {
       "model_id": "4909550e0cfc4f6da269247502af8b70",
       "version_major": 2,
       "version_minor": 0
      },
      "text/plain": [
       "  0%|          | 0/84 [00:00<?, ?it/s]"
      ]
     },
     "metadata": {},
     "output_type": "display_data"
    },
    {
     "data": {
      "application/json": {
       "ascii": false,
       "bar_format": null,
       "colour": null,
       "elapsed": 0.011886119842529297,
       "initial": 0,
       "n": 0,
       "ncols": null,
       "nrows": null,
       "postfix": null,
       "prefix": "",
       "rate": null,
       "total": 84,
       "unit": "it",
       "unit_divisor": 1000,
       "unit_scale": false
      },
      "application/vnd.jupyter.widget-view+json": {
       "model_id": "f48618dfe6104cf69d18c9b003d004d4",
       "version_major": 2,
       "version_minor": 0
      },
      "text/plain": [
       "  0%|          | 0/84 [00:00<?, ?it/s]"
      ]
     },
     "metadata": {},
     "output_type": "display_data"
    },
    {
     "data": {
      "application/json": {
       "ascii": false,
       "bar_format": null,
       "colour": null,
       "elapsed": 0.011189937591552734,
       "initial": 0,
       "n": 0,
       "ncols": null,
       "nrows": null,
       "postfix": null,
       "prefix": "",
       "rate": null,
       "total": 84,
       "unit": "it",
       "unit_divisor": 1000,
       "unit_scale": false
      },
      "application/vnd.jupyter.widget-view+json": {
       "model_id": "4a85485711e6436ba175059f81810f72",
       "version_major": 2,
       "version_minor": 0
      },
      "text/plain": [
       "  0%|          | 0/84 [00:00<?, ?it/s]"
      ]
     },
     "metadata": {},
     "output_type": "display_data"
    }
   ],
   "source": [
    "# Load patient data and individual annotations\n",
    "import datetime as dt\n",
    "from pathlib import Path\n",
    "import pandas as pd\n",
    "from tqdm.notebook import tqdm\n",
    "\n",
    "## pls excuse\n",
    "import os, sys\n",
    "up1 = os.path.abspath('..'); sys.path.insert(0, up1)\n",
    "## pls excuse\n",
    "\n",
    "from prediction import loadData as data\n",
    "\n",
    "# redefine for your data location\n",
    "DATA_DIR = Path(os.getcwd()).parent  / 'data' / 'assets' / 'europace' / 'physionet.org/files/ltafdb/1.0.0'\n",
    "\n",
    "# stitching parameters\n",
    "STITCH_LENGTH_SECONDS=10 #if end of annotation exceeds\n",
    "\n",
    "\n",
    "def collectAllRhythmsWithinStitch(rhythm='(AFIB', stitch_length = dt.timedelta(seconds=5)):\n",
    "    global DATA_DIR\n",
    "    allIDs = data.getAllRecordIDs(europaceDownloadDir=DATA_DIR)\n",
    "    result = list()\n",
    "    for id in tqdm(allIDs, total=len(allIDs)):\n",
    "        #collect all afib annotations for patient\n",
    "        annotationsForPatient: pd.DataFrame = data.getRhythmAnnotations(id, rhythmToCollect=rhythm)\n",
    "        #stitch baby\n",
    "        annotationsForPatient.sort_values(by='start', inplace=True)\n",
    "        preStitched = annotationsForPatient.copy()\n",
    "        postStitched = {\n",
    "            'start': list(),\n",
    "            'stop': list(),\n",
    "            'id': list(),\n",
    "            'basetime': list()\n",
    "        }\n",
    "        i = 0\n",
    "        broke=False\n",
    "        while (i < len(annotationsForPatient)):\n",
    "            knitStart = annotationsForPatient.iloc[i, :]['start']\n",
    "            knitStop = curStop = annotationsForPatient.iloc[i, :]['stop']\n",
    "            if (i+1 >= len(annotationsForPatient)):\n",
    "                broke=True\n",
    "                break\n",
    "            nextStart = annotationsForPatient.iloc[i+1, :]['start']\n",
    "            while ((nextStart - curStop) < stitch_length):\n",
    "                i += 1\n",
    "                if (i+1 >= len(annotationsForPatient)):\n",
    "                    broke=True\n",
    "                    break\n",
    "                knitStop = curStop = annotationsForPatient.iloc[i, :]['stop']\n",
    "                nextStart = annotationsForPatient.iloc[i+1, :]['start']\n",
    "            #time to add entry as a post stitched episode\n",
    "            postStitched['start'].append(knitStart)\n",
    "            postStitched['stop'].append(knitStop)\n",
    "            postStitched['id'].append(id)\n",
    "            postStitched['basetime'].append(annotationsForPatient.iloc[i-1, :]['basetime'])\n",
    "            i+=1\n",
    "        if (broke):\n",
    "            #time to add entry as a post stitched episode\n",
    "            postStitched['start'].append(knitStart)\n",
    "            postStitched['stop'].append(knitStop)\n",
    "            postStitched['id'].append(id)\n",
    "            postStitched['basetime'].append(annotationsForPatient.iloc[i-1, :]['basetime'])\n",
    "        result.append(pd.DataFrame(postStitched))\n",
    "\n",
    "    return pd.concat(result)\n",
    "\n",
    "stitchedAnnotations_10sec = collectAllRhythmsWithinStitch(stitch_length=dt.timedelta(seconds=10))\n",
    "stitchedAnnotations_5sec = collectAllRhythmsWithinStitch(stitch_length=dt.timedelta(seconds=5))\n",
    "stitchedAnnotations_1sec = collectAllRhythmsWithinStitch(stitch_length=dt.timedelta(seconds=1))"
   ]
  },
  {
   "cell_type": "code",
   "execution_count": null,
   "metadata": {},
   "outputs": [],
   "source": [
    "\n",
    "from prediction.loadData import getRhythmAnnotations, getAllRecordIDs\n",
    "\n",
    "# utility functions defined for dataframe of annotations: uniquePatients(df), numberOfEvents(df), and filterAnnotationsByLength(df, length)\n",
    "## i.e., print(uniquePatients(filtered), numberOfEvents(filterAnnotationsByLength(filtered, length=dt.timedelta(seconds=60))))\n",
    "uniquePatients = lambda df: len(df['id'].unique())\n",
    "numberOfEvents = lambda df: len(df)\n",
    "def filterAnnotationsByLength(df, length = dt.timedelta(seconds=30)):\n",
    "    return df[(df['stop']-df['start']) > length]\n",
    "\n",
    "allIdsRaw = list()\n",
    "for id in getAllRecordIDs():\n",
    "    allIdsRaw.append(getRhythmAnnotations(id))\n",
    "raw_ltafdb_annotations = pd.concat(allIdsRaw)\n"
   ]
  },
  {
   "cell_type": "code",
   "execution_count": 2,
   "metadata": {},
   "outputs": [
    {
     "ename": "NameError",
     "evalue": "name 'raw_ltafdb_annotations' is not defined",
     "output_type": "error",
     "traceback": [
      "\u001b[0;31m---------------------------------------------------------------------------\u001b[0m",
      "\u001b[0;31mNameError\u001b[0m                                 Traceback (most recent call last)",
      "Cell \u001b[0;32mIn [2], line 17\u001b[0m\n\u001b[1;32m     15\u001b[0m             runRawSum \u001b[39m+\u001b[39m\u001b[39m=\u001b[39m rawAnn[\u001b[39m'\u001b[39m\u001b[39mstop\u001b[39m\u001b[39m'\u001b[39m] \u001b[39m-\u001b[39m rawAnn[\u001b[39m'\u001b[39m\u001b[39mstart\u001b[39m\u001b[39m'\u001b[39m]\n\u001b[1;32m     16\u001b[0m     \u001b[39mreturn\u001b[39;00m runRawSum \u001b[39m/\u001b[39m runStitchSum\n\u001b[0;32m---> 17\u001b[0m proportion_10sec \u001b[39m=\u001b[39m proportionOfStitchedEpisodesInAfib(stitchedAnnotations_10sec, raw_ltafdb_annotations)\n\u001b[1;32m     18\u001b[0m proportion_5sec \u001b[39m=\u001b[39m  proportionOfStitchedEpisodesInAfib(stitchedAnnotations_5sec, raw_ltafdb_annotations)\n\u001b[1;32m     19\u001b[0m proportion_1sec \u001b[39m=\u001b[39m  proportionOfStitchedEpisodesInAfib(stitchedAnnotations_1sec, raw_ltafdb_annotations)\n",
      "\u001b[0;31mNameError\u001b[0m: name 'raw_ltafdb_annotations' is not defined"
     ]
    }
   ],
   "source": [
    "# Sydney sync:\n",
    "## even if our annotation extractions are correct, it seems like some annotations (i.e. changing a rhythm 3 times in a second?) are implausible\n",
    "## proportion of time the annotation says during a stitch difference --> over 50% necessary, higher is better\n",
    "## patient_id, start, end, start1, end1, \n",
    "import pandas as pd\n",
    "def proportionOfStitchedEpisodesInAfib(stitchedAnnotations: pd.DataFrame, rawAnnotations: pd.DataFrame):\n",
    "    rawAnnotationsWithinStitch = lambda df: rawAnnotations[(df['id'] == rawAnnotations['id']) & (df['start'] <= rawAnnotations['start']) & (rawAnnotations['stop'] <= df['stop'])]\n",
    "    runRawSum = dt.timedelta(seconds=0)\n",
    "    runStitchSum = dt.timedelta(seconds=0)\n",
    "    for i, annotation in stitchedAnnotations.iterrows():\n",
    "        runStitchSum += annotation['stop'] - annotation['start']\n",
    "        #collect corresponding rawAnnotations and sum their durations\n",
    "        correspondingRawAnnotations = rawAnnotationsWithinStitch(annotation)\n",
    "        for i, rawAnn in correspondingRawAnnotations.iterrows():\n",
    "            runRawSum += rawAnn['stop'] - rawAnn['start']\n",
    "    return runRawSum / runStitchSum\n",
    "proportion_10sec = proportionOfStitchedEpisodesInAfib(stitchedAnnotations_10sec, raw_ltafdb_annotations)\n",
    "proportion_5sec =  proportionOfStitchedEpisodesInAfib(stitchedAnnotations_5sec, raw_ltafdb_annotations)\n",
    "proportion_1sec =  proportionOfStitchedEpisodesInAfib(stitchedAnnotations_1sec, raw_ltafdb_annotations)\n",
    "\n"
   ]
  }
 ],
 "metadata": {
  "kernelspec": {
   "display_name": "Python 3.8.10 ('env': venv)",
   "language": "python",
   "name": "python3"
  },
  "language_info": {
   "codemirror_mode": {
    "name": "ipython",
    "version": 3
   },
   "file_extension": ".py",
   "mimetype": "text/x-python",
   "name": "python",
   "nbconvert_exporter": "python",
   "pygments_lexer": "ipython3",
   "version": "3.8.10"
  },
  "orig_nbformat": 4,
  "vscode": {
   "interpreter": {
    "hash": "b9e1339f53a5758a867de74181a53acc6564b4be503a855147ea43b30d32a482"
   }
  }
 },
 "nbformat": 4,
 "nbformat_minor": 2
}
