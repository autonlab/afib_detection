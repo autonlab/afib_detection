{
 "cells": [
  {
   "cell_type": "markdown",
   "metadata": {},
   "source": [
    "## Key performance indicators\n",
    "Intended cells:\n",
    "- Aggregated risk profiles leading to events*\n",
    "- Activity monitoring operating characteristic curve (AMOC)\n",
    "\n",
    "\n",
    "*See [here](https://pubmed.ncbi.nlm.nih.gov/33234161/#&gid=article-figures&pid=fig-4-uid-3) for example, or below:\n",
    "\n",
    "\n",
    "\n",
    "![hypotension risk curve](https://www.ncbi.nlm.nih.gov/pmc/articles/instance/7687996/bin/13054_2020_3379_Fig4_HTML.jpg)"
   ]
  },
  {
   "cell_type": "markdown",
   "metadata": {},
   "source": [
    "## Aggregated risk profiles leading to events\n",
    "Note that in example given there is a control group - for LTAF data we instead of samples of time sufficiently distant to afib"
   ]
  },
  {
   "cell_type": "code",
   "execution_count": null,
   "metadata": {},
   "outputs": [],
   "source": [
    "import datetime as dt\n",
    "import pandas as pd\n",
    "import matplotlib.pyplot as plt\n",
    "def aggregatedRiskProfiles(model, data):\n",
    "    #separate data into time's preceding afib and times sufficiently distant\n",
    "    priorToAF = data[data.inAF]\n",
    "    distantToAF = data[~data.inAF]\n",
    "\n",
    "    priorToAF['modelConfidence'] = model.apply(priorToAF)\n",
    "    distantToAF['modelConfidence'] = model.apply(distantToAF)\n",
    "\n",
    "\n",
    "    numIncrements = 200\n",
    "    timeBeforeToConsider = dt.timedelta(hours=3)\n",
    "    confidenceAverages = {\n",
    "        'priorToAF': list(),\n",
    "        'distantToAF': list(),\n",
    "        'timePrior': list()\n",
    "    }\n",
    "    pointsWithinSpan = lambda df, begin, end: df[(begin <= df['tte']) & (df['tte'] < end)]\n",
    "    for i in range(numIncrements):\n",
    "        bucketSpan = timeBeforeToConsider / numIncrements\n",
    "        begin, end = i*bucketSpan, (i+1)*bucketSpan\n",
    "        priorToAFPoints = pointsWithinSpan(priorToAF, begin, end) \n",
    "        confidenceAverages['priorToAF'].append(\n",
    "            priorToAFPoints.modelConfidence\n",
    "            .to_numpy().mean()\n",
    "            )\n",
    "        distantToAFPoints = pointsWithinSpan(distantToAF, begin, end)\n",
    "        confidenceAverages['distantToAF'].append(\n",
    "            distantToAFPoints.modelConfidence\n",
    "            .to_numpy().mean()\n",
    "        )\n",
    "        confidenceAverages['timePrior'].append((begin+end) / 2)\n",
    "    plt.plot(confidenceAverages['timePrior'], confidenceAverages['priorToAF'], label='AF samples')\n",
    "    plt.plot(confidenceAverages['timePrior'], confidenceAverages['distantToAF'], label='Stable samples')\n",
    "    plt.legend()\n",
    "    plt.show()"
   ]
  },
  {
   "cell_type": "code",
   "execution_count": null,
   "metadata": {},
   "outputs": [],
   "source": []
  },
  {
   "cell_type": "markdown",
   "metadata": {},
   "source": [
    "## FOR THE MANUSCRIPT\n",
    "- cross validation\n",
    "- ablation (removing MMD regularization, restitching of annotations)\n",
    "\n",
    "(nice to haves)\n",
    "- neural architecture search [see here](https://github.com/kirthevasank/nasbot)\n",
    "    - (get sample to run, then get it to run on tiny sample, then get it to run on whole dataset)\n",
    "    - the only read additions are modifying the data loss\n",
    "\n",
    "notes\n",
    "- Kyle added afib internal points"
   ]
  }
 ],
 "metadata": {
  "kernelspec": {
   "display_name": "Python 3.8.10 ('env': venv)",
   "language": "python",
   "name": "python3"
  },
  "language_info": {
   "codemirror_mode": {
    "name": "ipython",
    "version": 3
   },
   "file_extension": ".py",
   "mimetype": "text/x-python",
   "name": "python",
   "nbconvert_exporter": "python",
   "pygments_lexer": "ipython3",
   "version": "3.8.10"
  },
  "orig_nbformat": 4,
  "vscode": {
   "interpreter": {
    "hash": "b9e1339f53a5758a867de74181a53acc6564b4be503a855147ea43b30d32a482"
   }
  }
 },
 "nbformat": 4,
 "nbformat_minor": 2
}
