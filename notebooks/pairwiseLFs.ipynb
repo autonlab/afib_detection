{
 "cells": [
  {
   "cell_type": "markdown",
   "metadata": {},
   "source": [
    "## Collecting dataset\n",
    "\n"
   ]
  },
  {
   "cell_type": "code",
   "execution_count": 1,
   "metadata": {},
   "outputs": [],
   "source": [
    "import numpy as np\n",
    "from os import getcwd\n",
    "import pandas as pd\n",
    "from pathlib import Path\n",
    "from tqdm import tqdm\n",
    "\n",
    "## for relative imports\n",
    "import os, sys\n",
    "up1 = os.path.abspath('..'); sys.path.insert(0, up1)\n",
    "## for relative imports\n",
    "\n",
    "import data.manipulators as dm\n",
    "import data.utilities as du\n",
    "import model.utilities as mu\n",
    "from model.assets.labelmodel_heuristics import get_vote_vector_nk\n",
    "\n",
    "\n",
    "# Collect data\n",
    "config = mu.getModelConfig()\n",
    "featureSet = config.features_nk #nk suffixes are neurokit versions of features/featurizations (also have heartpy versions)\n",
    "print(f'Collecting unlabeled featurized data from source: {config.trainDataFile} (\"label\" column is populated from prior labelmodel annotations)')\n",
    "df = pd.read_csv(\n",
    "    Path(getcwd()).parent / 'data' / 'assets' / config.trainDataFile,\n",
    "    parse_dates=['start', 'stop'])\n",
    "\n",
    "print(f'Collecting annotated featurized data from source: {config.goldDataFile}')\n",
    "goldDF = pd.read_csv(\n",
    "    Path(getcwd()).parent / 'data' / 'assets' / config.goldDataFile,\n",
    "    parse_dates=['start', 'stop'])\n",
    "\n",
    "#helper to get votes -- see model/assets/labelmodel_heuristics.py for LFs\n",
    "def getHeuristicVotes(featurizedData):\n",
    "    L_train = list()\n",
    "    for i, row in tqdm(featurizedData.iterrows(), total=len(featurizedData)):\n",
    "        L_train.append(get_vote_vector_nk(**row))\n",
    "    return np.array(L_train)\n",
    "L_train = getHeuristicVotes(df)\n",
    "df, goldDF\n",
    "\n"
   ]
  },
  {
   "cell_type": "code",
   "execution_count": null,
   "metadata": {},
   "outputs": [],
   "source": []
  },
  {
   "cell_type": "markdown",
   "metadata": {},
   "source": [
    "# Appendix\n",
    "\n",
    "## Features\n",
    "\n",
    "features_nk:\n",
    "   - `b2b_var`     coefficient of variation (std / mean) of R peak to R peak intervals for segment\n",
    "   - `b2b_iqr`     interquartile range of \"\n",
    "   - `b2b_range`   range of \"\n",
    "   - `b2b_std`     std deviation of \"\n",
    "   - `hrv_sd1`     std deviation of RR_n, RR_{n+1} plot projected on line perpendicular to identity line (see [here](https://www.researchgate.net/figure/The-Poincare-plot-SD1-and-SD2-standard-deviations-of-the-scattergram_fig1_290416554))\n",
    "   - `hrv_sd2`     std deviation of RR_n, RR_{n+1} plot projected on identity line (see above)\n",
    "   - `hrv_sd1sd2`  sd1 / sd2\n",
    "   - `ecg_rate_mean`  bpm\n",
    "   - `hrv_pnn20`      percentage of NN intervals that are more than 20% different than their neighbor\n",
    "   - `hrv_pnn50`      \" 50% \"\n",
    "   - `hrv_rmssd`      square-root of   sum of successive differences between adjacent RR intervals\n",
    "   - `hrv_sdsd`       std deviation of \"\n",
    "   - `hrv_sdnn`       std deviation of NN intervals\n",
    "   - `hrv_lf`         power in low frequency band (range of .04hz - .15hz) of RR intervals\n",
    "   - `hrv_hf`         power in high frequency band (range of .15hz - .4hz) of RR intervals\n",
    "   - `hrv_lfhf`       lf / hf\n",
    "   - `hrv_sampen`     sample entropy of RR intervals\n",
    "   - `hrv_shanen`     shannon of \"\n",
    "   - `hrv_apen`       approximate of \"\n",
    "   - `hrv_hfd`        higuchi fractal dimension of \"\n",
    "   - `hopkins_statistic`  a measurement of the clusterability of RR intervals (see wiki)\n",
    "   - `max_sil_score`      maximum silhouette score out of k-means clustering of RR_n, RR_{n+1} pairs, with k taking values in 2 through 11 inclusive (see towards data science for good description of silhouette score)\n",
    "   - `sse_1_clusters`     sum of squared errors for 1-mean cluster fitted to RR_n, RR_{n+1} pairs\n",
    "   - `sse_2_clusters`     sum of squared errors for 2-mean cluster fitted to \"\n",
    "   - `sse_diff`           sse_1_clusters - sse_2_clusters, to capture how much better two clusters capture RR interval pairs than a single cluster"
   ]
  }
 ],
 "metadata": {
  "kernelspec": {
   "display_name": "Python 3.8.10 ('env': venv)",
   "language": "python",
   "name": "python3"
  },
  "language_info": {
   "codemirror_mode": {
    "name": "ipython",
    "version": 3
   },
   "file_extension": ".py",
   "mimetype": "text/x-python",
   "name": "python",
   "nbconvert_exporter": "python",
   "pygments_lexer": "ipython3",
   "version": "3.8.10"
  },
  "orig_nbformat": 4,
  "vscode": {
   "interpreter": {
    "hash": "b9e1339f53a5758a867de74181a53acc6564b4be503a855147ea43b30d32a482"
   }
  }
 },
 "nbformat": 4,
 "nbformat_minor": 2
}
